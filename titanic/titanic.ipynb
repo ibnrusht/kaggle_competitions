{
 "cells": [
  {
   "cell_type": "markdown",
   "id": "a1bc1a07",
   "metadata": {},
   "source": [
    "<h1>Titaniс Kaggle competition</h1>"
   ]
  },
  {
   "cell_type": "markdown",
   "id": "abb0838b",
   "metadata": {},
   "source": [
    "<h2>1. Handling missing data and feature engeneering</h2>"
   ]
  },
  {
   "cell_type": "markdown",
   "id": "8dc80e1a",
   "metadata": {},
   "source": [
    "This is binary classification problem, supervised machine learning.\n",
    "\n",
    "In our `train.csv` dataset we have `Survived` column. It will be our target. There are some problems that need to be addresed before we start training various models. Let's take a look on the original dataset: \n"
   ]
  },
  {
   "cell_type": "code",
   "execution_count": 352,
   "id": "7f9ba068",
   "metadata": {
    "scrolled": false
   },
   "outputs": [
    {
     "name": "stderr",
     "output_type": "stream",
     "text": [
      "/tmp/ipykernel_6220/2448969598.py:28: SettingWithCopyWarning: \n",
      "A value is trying to be set on a copy of a slice from a DataFrame\n",
      "\n",
      "See the caveats in the documentation: https://pandas.pydata.org/pandas-docs/stable/user_guide/indexing.html#returning-a-view-versus-a-copy\n",
      "  titanic_df['title'].iloc[i] = titles[key]\n"
     ]
    },
    {
     "data": {
      "text/html": [
       "<div>\n",
       "<style scoped>\n",
       "    .dataframe tbody tr th:only-of-type {\n",
       "        vertical-align: middle;\n",
       "    }\n",
       "\n",
       "    .dataframe tbody tr th {\n",
       "        vertical-align: top;\n",
       "    }\n",
       "\n",
       "    .dataframe thead th {\n",
       "        text-align: right;\n",
       "    }\n",
       "</style>\n",
       "<table border=\"1\" class=\"dataframe\">\n",
       "  <thead>\n",
       "    <tr style=\"text-align: right;\">\n",
       "      <th></th>\n",
       "      <th>PassengerId</th>\n",
       "      <th>Survived</th>\n",
       "      <th>Pclass</th>\n",
       "      <th>Name</th>\n",
       "      <th>Sex</th>\n",
       "      <th>Age</th>\n",
       "      <th>SibSp</th>\n",
       "      <th>Parch</th>\n",
       "      <th>Ticket</th>\n",
       "      <th>Fare</th>\n",
       "      <th>Cabin</th>\n",
       "      <th>Embarked</th>\n",
       "      <th>title</th>\n",
       "    </tr>\n",
       "  </thead>\n",
       "  <tbody>\n",
       "    <tr>\n",
       "      <th>449</th>\n",
       "      <td>450</td>\n",
       "      <td>1</td>\n",
       "      <td>1</td>\n",
       "      <td>Peuchen, Major. Arthur Godfrey</td>\n",
       "      <td>male</td>\n",
       "      <td>52.0</td>\n",
       "      <td>0</td>\n",
       "      <td>0</td>\n",
       "      <td>113786</td>\n",
       "      <td>30.50</td>\n",
       "      <td>C104</td>\n",
       "      <td>S</td>\n",
       "      <td>Major</td>\n",
       "    </tr>\n",
       "    <tr>\n",
       "      <th>536</th>\n",
       "      <td>537</td>\n",
       "      <td>0</td>\n",
       "      <td>1</td>\n",
       "      <td>Butt, Major. Archibald Willingham</td>\n",
       "      <td>male</td>\n",
       "      <td>45.0</td>\n",
       "      <td>0</td>\n",
       "      <td>0</td>\n",
       "      <td>113050</td>\n",
       "      <td>26.55</td>\n",
       "      <td>B38</td>\n",
       "      <td>S</td>\n",
       "      <td>Major</td>\n",
       "    </tr>\n",
       "  </tbody>\n",
       "</table>\n",
       "</div>"
      ],
      "text/plain": [
       "     PassengerId  Survived  Pclass                               Name   Sex  \\\n",
       "449          450         1       1     Peuchen, Major. Arthur Godfrey  male   \n",
       "536          537         0       1  Butt, Major. Archibald Willingham  male   \n",
       "\n",
       "      Age  SibSp  Parch  Ticket   Fare Cabin Embarked  title  \n",
       "449  52.0      0      0  113786  30.50  C104        S  Major  \n",
       "536  45.0      0      0  113050  26.55   B38        S  Major  "
      ]
     },
     "execution_count": 352,
     "metadata": {},
     "output_type": "execute_result"
    }
   ],
   "source": [
    "import pandas as pd\n",
    "from sklearn.model_selection import train_test_split\n",
    "from sklearn.preprocessing import MinMaxScaler\n",
    "from sklearn.metrics import r2_score, mean_absolute_error\n",
    "import matplotlib.pyplot as plt\n",
    "import seaborn as sns\n",
    "\n",
    "sns.set(style=\"white\") #white background style for seaborn plots\n",
    "sns.set(style=\"whitegrid\", color_codes=True)\n",
    "\n",
    "train_path = \"train.csv\"\n",
    "\n",
    "titanic_df = pd.read_csv(train_path)\n",
    "titles = {\n",
    "    'Mr.': 'Mr',\n",
    "    \"Mrs.\": 'Mrs',\n",
    "    \"Miss.\": 'Miss',\n",
    "    \"Master.\": 'Master',\n",
    "    'Lady': 'Lady',\n",
    "    'Sir.': 'Sir',\n",
    "    'Count': 'Count',\n",
    "    'Major': 'Major',\n",
    "}\n",
    "titanic_df['title'] = 0\n",
    "for i, name in enumerate(titanic_df['Name']):\n",
    "    for key in titles:\n",
    "        if key in name:\n",
    "            titanic_df['title'].iloc[i] = titles[key]\n",
    "titanic_df.loc[titanic_df['title'] == 'Major'].head()"
   ]
  },
  {
   "cell_type": "markdown",
   "id": "bfa08b17",
   "metadata": {},
   "source": [
    "First of all, we should handle missing data.\n",
    "\n",
    "I will start with the `Age`."
   ]
  },
  {
   "cell_type": "code",
   "execution_count": 353,
   "id": "e8e7f01b",
   "metadata": {},
   "outputs": [
    {
     "data": {
      "image/png": "[encoded data removed]",
      "text/plain": [
       "<Figure size 432x288 with 1 Axes>"
      ]
     },
     "metadata": {},
     "output_type": "display_data"
    },
    {
     "name": "stdout",
     "output_type": "stream",
     "text": [
      "Missing age ratio among survived: 24.03\n",
      "Missing age ratio among deceased: 23.65\n"
     ]
    }
   ],
   "source": [
    "sns.set(font_scale=2)\n",
    "sns.histplot(data=titanic_df.loc[titanic_df['Survived'] == 1, 'Age'],\\\n",
    "             kde=True, legend=True, bins=50)\n",
    "sns.histplot(data=titanic_df.loc[titanic_df['Survived'] == 0, 'Age'],\\\n",
    "             kde=True, color=\"red\", bins=50)\n",
    "plt.legend(labels=['Survived', 'Died'], prop={\"size\": 20})\n",
    "plt.show()\n",
    "\n",
    "print(f\"Missing age ratio among \\\n",
    "survived: {titanic_df.loc[titanic_df['Survived'] == 1, 'Age'].sum()/len(titanic_df.loc[titanic_df['Survived'] == 1, 'Age']):.2f}\")\n",
    "print(f\"Missing age ratio among \\\n",
    "deceased: {titanic_df.loc[titanic_df['Survived'] == 0, 'Age'].sum()/len(titanic_df.loc[titanic_df['Survived'] == 0, 'Age']):.2f}\")"
   ]
  },
  {
   "cell_type": "markdown",
   "id": "522aa3d4",
   "metadata": {},
   "source": [
    "If we fill our missing data with mean or median value, we will destroy this relation. Looks like, if we have a person with NaN in \"Age\" column, his odds to survive might be lower.\n",
    "\n",
    "The second observation is: minors have better chances to survive, than the adults. Therefore I will divide Age col in three classes: Minor, Adult and Missing.\n",
    "\n",
    "\n"
   ]
  },
  {
   "cell_type": "code",
   "execution_count": 354,
   "id": "7eaa8723",
   "metadata": {},
   "outputs": [],
   "source": [
    "minor = titanic_df['Age'] < 11\n",
    "adult = titanic_df['Age'] >= 11\n",
    "titanic_df.loc[minor, 'Age'] = 'minor'\n",
    "titanic_df.loc[adult, 'Age'] = 'adult'\n",
    "titanic_df['Age'].fillna('missing', inplace=True)"
   ]
  },
  {
   "cell_type": "markdown",
   "id": "948ab042",
   "metadata": {},
   "source": [
    "What about `Embarked`?\n",
    "\n",
    "I am gonna fill missing data with the most popular port (Southampton). After that I will examine the `Cabin` data."
   ]
  },
  {
   "cell_type": "code",
   "execution_count": 355,
   "id": "2e8f9a53",
   "metadata": {},
   "outputs": [
    {
     "name": "stdout",
     "output_type": "stream",
     "text": [
      "People embarked at Southampton: 644\n",
      "People embarked at Cherbourg: 168\n",
      "People embarked at Queenstown: 77\n",
      "77% of the \"Cabin\" data is missing.\n",
      "We don't know the cabin number of 0.60% of survived passengers.\n",
      "We don't know cabin number of 0.88% of deceased passengers.\n"
     ]
    }
   ],
   "source": [
    "print(f\"People embarked at \\\n",
    "Southampton: {titanic_df.loc[titanic_df['Embarked'] == 'S', 'Embarked'].count()}\")\n",
    "print(f\"People embarked at \\\n",
    "Cherbourg: {titanic_df.loc[titanic_df['Embarked'] == 'C', 'Embarked'].count()}\")\n",
    "print(f\"People embarked at \\\n",
    "Queenstown: {titanic_df.loc[titanic_df['Embarked'] == 'Q', 'Embarked'].count()}\")\n",
    "titanic_df[\"Embarked\"].fillna('S', inplace=True)\n",
    "print(f\"{100 * titanic_df['Cabin'].isnull().sum()/len(titanic_df['Cabin']):.0f}% \\\n",
    "of the \\\"Cabin\\\" data is missing.\")\n",
    "print(f\"We don't know the cabin number of \\\n",
    "{titanic_df.loc[titanic_df['Survived'] == 1, 'Cabin'].isnull().sum()/len(titanic_df.loc[titanic_df['Survived'] == 1, 'Cabin']):.2f}% of survived passengers.\")\n",
    "print(f\"We don't know cabin number of \\\n",
    "{titanic_df.loc[titanic_df['Survived'] == 0, 'Cabin'].isnull().sum()/len(titanic_df.loc[titanic_df['Survived'] == 0, 'Cabin']):.2f}% of deceased passengers.\")"
   ]
  },
  {
   "cell_type": "markdown",
   "id": "6cc055da",
   "metadata": {},
   "source": [
    "So... `Cabin`. Looks like the vast majority of the data is missing and there is no significant difference between survived and deceased passengers.\n",
    "\n",
    "I am not gonna use `Cabin`, `Ticket` and `Name` columns."
   ]
  },
  {
   "cell_type": "code",
   "execution_count": 356,
   "id": "fc2d05ac",
   "metadata": {
    "scrolled": true
   },
   "outputs": [],
   "source": [
    "features = ['Pclass', 'Sex', 'Age', 'Fare', 'Embarked', 'title']\n",
    "# features = ['Pclass', 'Sex', 'Age', 'Fare', 'Embarked']\n",
    "scaler = MinMaxScaler()\n",
    "\n",
    "X = titanic_df[features].copy()\n",
    "y = titanic_df['Survived'].copy()\n",
    "y.columns = ['Survived']\n",
    "X = pd.get_dummies(X, prefix=['Pclass', 'Sex', 'Embarked', 'Age', 'title'],\\\n",
    "                   columns=['Pclass', 'Sex', 'Embarked', 'Age', 'title'])\n",
    "X.head(3)\n",
    "X[[\"Fare\"]] = scaler.fit_transform(X[[\"Fare\"]])"
   ]
  },
  {
   "cell_type": "markdown",
   "id": "cbd19b06",
   "metadata": {},
   "source": [
    "`Survived` column mean value is less than 0.5. It means, there are more dead people in our dataset, than survived. We have to pay attention to the fact during our train-test splitting and use cross-validation.\n",
    "\n",
    "I will start with linear_model library."
   ]
  },
  {
   "cell_type": "code",
   "execution_count": 357,
   "id": "33bb9398",
   "metadata": {},
   "outputs": [
    {
     "name": "stdout",
     "output_type": "stream",
     "text": [
      "gridsearch best_score = 0.646\n",
      "gridsearch best parameters = {'alpha': 1e-06, 'penalty': 'l2'}\n",
      "              precision    recall  f1-score   support\n",
      "\n",
      "           0       0.86      0.81      0.84       110\n",
      "           1       0.72      0.80      0.76        69\n",
      "\n",
      "    accuracy                           0.80       179\n",
      "   macro avg       0.79      0.80      0.80       179\n",
      "weighted avg       0.81      0.80      0.81       179\n",
      "\n"
     ]
    }
   ],
   "source": [
    "from sklearn.linear_model import SGDClassifier\n",
    "from sklearn.model_selection import GridSearchCV\n",
    "from sklearn.metrics import classification_report, roc_curve\n",
    "\n",
    "train_X, test_X, train_y, test_y =\\\n",
    "train_test_split(X, y, test_size=0.2, stratify=y, random_state=1)\n",
    "model = SGDClassifier(random_state=1)\n",
    "grid = {'alpha': [1e-7, 1e-6, 1e-5],\n",
    "    'penalty': ['l2']}\n",
    "\n",
    "gs = GridSearchCV(model, grid, scoring=\"f1\", n_jobs=-1, cv=10,\n",
    "                     return_train_score=True)\n",
    "\n",
    "gs.fit(train_X, train_y)\n",
    "predictions = gs.predict(test_X)\n",
    "\n",
    "print(f\"gridsearch best_score = {gs.best_score_:0.3f}\")\n",
    "print(f\"gridsearch best parameters = {gs.best_params_}\")\n",
    "print(classification_report(test_y.values, predictions))\n"
   ]
  },
  {
   "cell_type": "code",
   "execution_count": 385,
   "id": "25b1ddfe",
   "metadata": {},
   "outputs": [
    {
     "name": "stdout",
     "output_type": "stream",
     "text": [
      "gridsearch best_score = 0.731\n",
      "gridsearch best parameters = {'max_leaf_nodes': 19}\n",
      "              precision    recall  f1-score   support\n",
      "\n",
      "           0       0.85      0.93      0.89       110\n",
      "           1       0.86      0.74      0.80        69\n",
      "\n",
      "    accuracy                           0.85       179\n",
      "   macro avg       0.86      0.83      0.84       179\n",
      "weighted avg       0.86      0.85      0.85       179\n",
      "\n"
     ]
    }
   ],
   "source": [
    "from sklearn.ensemble import RandomForestClassifier\n",
    "\n",
    "dt_model = RandomForestClassifier(random_state=1)\n",
    "grid = {\n",
    "    'max_leaf_nodes': [18, 19, 20],\n",
    "       }\n",
    "gs = GridSearchCV(dt_model, grid, scoring=\"f1\", n_jobs=-1, cv=10,\n",
    "                     return_train_score=True)\n",
    "\n",
    "gs.fit(train_X, train_y)\n",
    "predictions = gs.predict(test_X)\n",
    "\n",
    "print(f\"gridsearch best_score = {gs.best_score_:0.3f}\")\n",
    "print(f\"gridsearch best parameters = {gs.best_params_}\")\n",
    "print(classification_report(test_y.values, predictions))"
   ]
  },
  {
   "cell_type": "markdown",
   "id": "fb2a44c6",
   "metadata": {},
   "source": [
    "<h2>2. RandomForest model</h2>"
   ]
  },
  {
   "cell_type": "code",
   "execution_count": 369,
   "id": "aebcec55",
   "metadata": {
    "scrolled": true
   },
   "outputs": [
    {
     "name": "stderr",
     "output_type": "stream",
     "text": [
      "/tmp/ipykernel_6220/3598493761.py:19: SettingWithCopyWarning: \n",
      "A value is trying to be set on a copy of a slice from a DataFrame\n",
      "\n",
      "See the caveats in the documentation: https://pandas.pydata.org/pandas-docs/stable/user_guide/indexing.html#returning-a-view-versus-a-copy\n",
      "  test_df['title'].iloc[i] = titles[key]\n"
     ]
    }
   ],
   "source": [
    "rf_model = RandomForestClassifier(max_leaf_nodes=15)\n",
    "rf_model.fit(X, y)\n",
    "\n",
    "test_path = \"test.csv\"\n",
    "test_df = pd.read_csv(test_path)\n",
    "\n",
    "test_df['Fare'].fillna(14.45, inplace=True)\n",
    "\n",
    "minor = test_df['Age'] < 10\n",
    "adult = test_df['Age'] >= 10\n",
    "test_df.loc[minor, 'Age'] = 'minor'\n",
    "test_df.loc[adult, 'Age'] = 'adult'\n",
    "test_df['Age'].fillna('missing', inplace=True)\n",
    "\n",
    "test_df['title'] = 0\n",
    "for i, name in enumerate(test_df['Name']):\n",
    "    for key in titles:\n",
    "        if key in name:\n",
    "            test_df['title'].iloc[i] = titles[key]\n",
    "\n",
    "t_X = test_df[features]\n",
    "t_X = pd.get_dummies(t_X, prefix=['Pclass', 'Sex', 'Embarked', 'Age', 'title'],\\\n",
    "                     columns=['Pclass', 'Sex', 'Embarked', 'Age', 'title'])\n",
    "t_X[['Fare']] = scaler.fit_transform(t_X[['Fare']])\n",
    "t_X_new = pd.DataFrame()\n",
    "for name in X.columns:\n",
    "    if name in t_X.columns:\n",
    "        t_X_new[name] = t_X[name]\n",
    "    else:\n",
    "        t_X_new[name] = 0"
   ]
  },
  {
   "cell_type": "code",
   "execution_count": 370,
   "id": "a7c9e910",
   "metadata": {},
   "outputs": [],
   "source": [
    "t_predictions = rf_model.predict(t_X_new)"
   ]
  },
  {
   "cell_type": "code",
   "execution_count": 371,
   "id": "de25fe87",
   "metadata": {},
   "outputs": [],
   "source": [
    "submission = pd.DataFrame()\n",
    "submission['PassengerId'] = test_df['PassengerId']\n",
    "submission['Survived'] = t_predictions\n",
    "submission.to_csv(\"randomforest_model_with_titles_submission.csv\", index=False)"
   ]
  },
  {
   "cell_type": "markdown",
   "id": "33b4bd5c",
   "metadata": {},
   "source": [
    "<h2>3. XGBoost time</h2>"
   ]
  },
  {
   "cell_type": "code",
   "execution_count": 372,
   "id": "fe1c18a2",
   "metadata": {},
   "outputs": [
    {
     "name": "stdout",
     "output_type": "stream",
     "text": [
      "              precision    recall  f1-score   support\n",
      "\n",
      "           0       0.84      0.85      0.84       110\n",
      "           1       0.75      0.74      0.74        69\n",
      "\n",
      "    accuracy                           0.80       179\n",
      "   macro avg       0.79      0.79      0.79       179\n",
      "weighted avg       0.80      0.80      0.80       179\n",
      "\n"
     ]
    }
   ],
   "source": [
    "import xgboost as xgb\n",
    "\n",
    "train_X, test_X, train_y, test_y =\\\n",
    "train_test_split(X, y, test_size=0.2, stratify=y, random_state=1)\n",
    "\n",
    "xg_model = xgb.XGBClassifier(objective ='reg:logistic', colsample_bytree = 0.3, learning_rate = 0.1,\n",
    "                max_depth = 5, alpha = 10, n_estimators = 10)\n",
    "\n",
    "xg_model.fit(train_X, train_y)\n",
    "xg_predictions = xg_model.predict(test_X)\n",
    "print(classification_report(test_y, xg_predictions))"
   ]
  },
  {
   "cell_type": "markdown",
   "id": "c3923bab",
   "metadata": {},
   "source": [
    "Cross-validation is necessary."
   ]
  },
  {
   "cell_type": "code",
   "execution_count": 381,
   "id": "c849a127",
   "metadata": {},
   "outputs": [
    {
     "name": "stderr",
     "output_type": "stream",
     "text": [
      "/usr/lib/python3/dist-packages/pkg_resources/__init__.py:116: PkgResourcesDeprecationWarning: 0.1.43ubuntu1 is an invalid version and will not be supported in a future release\n",
      "  warnings.warn(\n",
      "/usr/lib/python3/dist-packages/pkg_resources/__init__.py:116: PkgResourcesDeprecationWarning: 1.1build1 is an invalid version and will not be supported in a future release\n",
      "  warnings.warn(\n",
      "/usr/lib/python3/dist-packages/pkg_resources/__init__.py:116: PkgResourcesDeprecationWarning: 0.1.43ubuntu1 is an invalid version and will not be supported in a future release\n",
      "  warnings.warn(\n",
      "/usr/lib/python3/dist-packages/pkg_resources/__init__.py:116: PkgResourcesDeprecationWarning: 1.1build1 is an invalid version and will not be supported in a future release\n",
      "  warnings.warn(\n",
      "/usr/lib/python3/dist-packages/pkg_resources/__init__.py:116: PkgResourcesDeprecationWarning: 0.1.43ubuntu1 is an invalid version and will not be supported in a future release\n",
      "  warnings.warn(\n",
      "/usr/lib/python3/dist-packages/pkg_resources/__init__.py:116: PkgResourcesDeprecationWarning: 1.1build1 is an invalid version and will not be supported in a future release\n",
      "  warnings.warn(\n",
      "/usr/lib/python3/dist-packages/pkg_resources/__init__.py:116: PkgResourcesDeprecationWarning: 0.1.43ubuntu1 is an invalid version and will not be supported in a future release\n",
      "  warnings.warn(\n",
      "/usr/lib/python3/dist-packages/pkg_resources/__init__.py:116: PkgResourcesDeprecationWarning: 1.1build1 is an invalid version and will not be supported in a future release\n",
      "  warnings.warn(\n"
     ]
    },
    {
     "name": "stdout",
     "output_type": "stream",
     "text": [
      "[18:54:05] WARNING: ../src/learner.cc:627: \n",
      "Parameters: { \"sample_weight\" } might not be used.\n",
      "\n",
      "  This could be a false alarm, with some parameters getting used by language bindings but\n",
      "  then being mistakenly passed down to XGBoost core, or some parameter actually being used\n",
      "  but getting flagged wrongly here. Please open an issue if you find any such cases.\n",
      "\n",
      "\n",
      "gridsearch best_score = 0.716\n",
      "gridsearch best parameters = {'colsample_bytree': 0.2, 'learning_rate': 0.3, 'max_depth': 2, 'n_estimators': 60, 'objective': 'reg:logistic', 'sample_weight': 0.2}\n",
      "              precision    recall  f1-score   support\n",
      "\n",
      "           0       0.83      0.86      0.85       110\n",
      "           1       0.77      0.72      0.75        69\n",
      "\n",
      "    accuracy                           0.81       179\n",
      "   macro avg       0.80      0.79      0.80       179\n",
      "weighted avg       0.81      0.81      0.81       179\n",
      "\n"
     ]
    }
   ],
   "source": [
    "grid = {\"objective\":[\"reg:logistic\"],'colsample_bytree': [0.2],\n",
    "          'learning_rate': [0.3],\n",
    "          'max_depth': [2],\n",
    "         'n_estimators': [60],\n",
    "       }\n",
    "\n",
    "xgb_gs = GridSearchCV(xg_model, grid, scoring=\"f1\", n_jobs=-1, cv=10, return_train_score=True)\n",
    "\n",
    "xgb_gs.fit(train_X, train_y)\n",
    "xgb_cv_predictions = xgb_gs.predict(test_X)\n",
    "\n",
    "print(f\"gridsearch best_score = {xgb_gs.best_score_:0.3f}\")\n",
    "print(f\"gridsearch best parameters = {xgb_gs.best_params_}\")\n",
    "print(classification_report(test_y, xgb_cv_predictions))"
   ]
  },
  {
   "cell_type": "code",
   "execution_count": 375,
   "id": "510f489b",
   "metadata": {},
   "outputs": [],
   "source": [
    "f_xgb = xgb.XGBClassifier(objective=\"reg:logistic\",\\\n",
    "                          colsample_bytree=0.2, learning_rate = 0.3,\\\n",
    "                          max_depth=2, n_estimators = 60)\n",
    "f_xgb.fit(X, y)\n",
    "t_predictions = f_xgb.predict(t_X_new)"
   ]
  },
  {
   "cell_type": "code",
   "execution_count": 376,
   "id": "7a057322",
   "metadata": {},
   "outputs": [],
   "source": [
    "submission = pd.DataFrame()\n",
    "submission['PassengerId'] = test_df['PassengerId']\n",
    "submission['Survived'] = t_predictions\n",
    "submission.to_csv(\"xgboost_submission.csv\", index=False)"
   ]
  },
  {
   "cell_type": "markdown",
   "id": "35385ad5",
   "metadata": {},
   "source": [
    "<h2>3. Stacking classifiers </h2>"
   ]
  },
  {
   "cell_type": "code",
   "execution_count": 379,
   "id": "e54033f7",
   "metadata": {},
   "outputs": [
    {
     "name": "stdout",
     "output_type": "stream",
     "text": [
      "              precision    recall  f1-score   support\n",
      "\n",
      "           0       0.86      0.94      0.90       110\n",
      "           1       0.88      0.75      0.81        69\n",
      "\n",
      "    accuracy                           0.87       179\n",
      "   macro avg       0.87      0.84      0.85       179\n",
      "weighted avg       0.87      0.87      0.86       179\n",
      "\n"
     ]
    }
   ],
   "source": [
    "from sklearn.linear_model import LogisticRegression\n",
    "from sklearn.ensemble import StackingClassifier\n",
    "\n",
    "estimators_list = [\n",
    "    ('sgdc', SGDClassifier(alpha=4e-9)),\n",
    "    ('rf', rf_model),\n",
    "    ('xgb', f_xgb),\n",
    "]\n",
    "\n",
    "clf = StackingClassifier(estimators=estimators_list, final_estimator=LogisticRegression())\n",
    "clf.fit(train_X, train_y)\n",
    "\n",
    "clf_pred = clf.predict(test_X)\n",
    "print(classification_report(test_y, clf_pred))\n"
   ]
  },
  {
   "cell_type": "code",
   "execution_count": 380,
   "id": "11644635",
   "metadata": {},
   "outputs": [],
   "source": [
    "clf.fit(X, y)\n",
    "clf_pred = clf.predict(t_X_new)\n",
    "submission = pd.DataFrame()\n",
    "submission['PassengerId'] = test_df['PassengerId']\n",
    "submission['Survived'] = clf_pred\n",
    "submission.to_csv(\"stacking_submission.csv\", index=False)"
   ]
  },
  {
   "cell_type": "code",
   "execution_count": null,
   "id": "e9a59ec4",
   "metadata": {},
   "outputs": [],
   "source": []
  }
 ],
 "metadata": {
  "kernelspec": {
   "display_name": "Python 3 (ipykernel)",
   "language": "python",
   "name": "python3"
  },
  "language_info": {
   "codemirror_mode": {
    "name": "ipython",
    "version": 3
   },
   "file_extension": ".py",
   "mimetype": "text/x-python",
   "name": "python",
   "nbconvert_exporter": "python",
   "pygments_lexer": "ipython3",
   "version": "3.10.4"
  }
 },
 "nbformat": 4,
 "nbformat_minor": 5
}
