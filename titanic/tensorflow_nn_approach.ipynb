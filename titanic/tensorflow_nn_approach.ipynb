{
 "cells": [
  {
   "cell_type": "code",
   "execution_count": 188,
   "id": "22084dcf",
   "metadata": {},
   "outputs": [],
   "source": [
    "import pandas as pd\n",
    "import seaborn as sns\n",
    "import numpy as np\n",
    "\n",
    "from tensorflow import keras\n",
    "from keras import layers\n",
    "\n",
    "df = pd.read_csv('train.csv')\n",
    "df_test = pd.read_csv('test.csv')"
   ]
  },
  {
   "cell_type": "code",
   "execution_count": 189,
   "id": "2f28e82b",
   "metadata": {},
   "outputs": [
    {
     "name": "stderr",
     "output_type": "stream",
     "text": [
      "/tmp/ipykernel_29765/3948701475.py:46: SettingWithCopyWarning: \n",
      "A value is trying to be set on a copy of a slice from a DataFrame\n",
      "\n",
      "See the caveats in the documentation: https://pandas.pydata.org/pandas-docs/stable/user_guide/indexing.html#returning-a-view-versus-a-copy\n",
      "  df['title'].iloc[i] = titles[key]\n",
      "/tmp/ipykernel_29765/3948701475.py:50: SettingWithCopyWarning: \n",
      "A value is trying to be set on a copy of a slice from a DataFrame\n",
      "\n",
      "See the caveats in the documentation: https://pandas.pydata.org/pandas-docs/stable/user_guide/indexing.html#returning-a-view-versus-a-copy\n",
      "  df_test['title'].iloc[i] = titles[key]\n"
     ]
    }
   ],
   "source": [
    "titles = {\n",
    "    'Mr.': 'mr',\n",
    "    \"Mrs.\": 'mrs',\n",
    "    \"Miss.\": 'miss',\n",
    "    \"Master.\": 'master',\n",
    "    'Lady': 'rare',\n",
    "    'Sir.': 'rare',\n",
    "    'Count': 'rare',\n",
    "    'Major': 'rare',\n",
    "    'Don.': 'rare',\n",
    "    'Dr.': 'rare',\n",
    "    'Rev.': 'rare',\n",
    "    'Col.': 'rare',\n",
    "    'Ms': 'mrs',\n",
    "    'Mme.': 'rare',\n",
    "    'Mlle.': 'miss',\n",
    "    'Capt.': 'rare',\n",
    "    'Jonkheer.': 'rare',\n",
    "    'Dona.': 'mrs'\n",
    "}\n",
    "# titles = {\n",
    "#     'Mr.': 0,\n",
    "#     \"Mrs.\": 1,\n",
    "#     \"Miss.\": 2,\n",
    "#     \"Master.\": 3,\n",
    "#     'Lady': 4,\n",
    "#     'Sir.': 4,\n",
    "#     'Count': 4,\n",
    "#     'Major': 4,\n",
    "#     'Don.': 4,\n",
    "#     'Dr.': 4,\n",
    "#     'Rev.': 4,\n",
    "#     'Col.': 4,\n",
    "#     'Ms': 1,\n",
    "#     'Mme.': 4,\n",
    "#     'Mlle.': 2,\n",
    "#     'Capt.': 4,\n",
    "#     'Jonkheer.': 4,\n",
    "#     'Dona.': 1\n",
    "# }\n",
    "df['title'] = 0\n",
    "df_test['title'] = 0\n",
    "for i, name in enumerate(df['Name']):\n",
    "    for key in titles:\n",
    "        if key in name:\n",
    "            df['title'].iloc[i] = titles[key]\n",
    "for i, name in enumerate(df_test['Name']):\n",
    "    for key in titles:\n",
    "        if key in name:\n",
    "            df_test['title'].iloc[i] = titles[key]"
   ]
  },
  {
   "cell_type": "code",
   "execution_count": 190,
   "id": "a2b5b1a0",
   "metadata": {},
   "outputs": [],
   "source": [
    "mask = [True if 'master' in item else False for item in df['Name'].apply(str).str.lower()]\n",
    "mask2 = df['Age'].isnull()\n",
    "df.loc[mask & mask2, 'Age'] = 10"
   ]
  },
  {
   "cell_type": "code",
   "execution_count": 191,
   "id": "f1860751",
   "metadata": {},
   "outputs": [],
   "source": [
    "mask = [True if 'mr.' in item else False for item in df['Name'].apply(str).str.lower()]\n",
    "mask2 = df['Age'].isnull()\n",
    "df.loc[mask & mask2, 'Age'] = df.loc[df['Sex'] == 'male', 'Age'].median()"
   ]
  },
  {
   "cell_type": "code",
   "execution_count": 192,
   "id": "33b7bd0a",
   "metadata": {},
   "outputs": [],
   "source": [
    "df.loc[df['Age'].isnull(), 'Age'] = df.loc[df['Sex'] == 'female', 'Age'].median()"
   ]
  },
  {
   "cell_type": "code",
   "execution_count": 193,
   "id": "48a78576",
   "metadata": {},
   "outputs": [],
   "source": [
    "mask = [True if 'master' in item else False for item in df_test['Name'].apply(str).str.lower()]\n",
    "mask2 = df_test['Age'].isnull()\n",
    "df_test.loc[mask & mask2, 'Age'] = 10"
   ]
  },
  {
   "cell_type": "code",
   "execution_count": 194,
   "id": "c53b09a2",
   "metadata": {},
   "outputs": [],
   "source": [
    "mask = [True if 'mr.' in item else False for item in df_test['Name'].apply(str).str.lower()]\n",
    "mask2 = df_test['Age'].isnull()\n",
    "df_test.loc[mask & mask2, 'Age'] = df_test.loc[df_test['Sex'] == 'male', 'Age'].median()\n",
    "df_test.loc[df_test['Age'].isnull(), 'Age'] = df_test.loc[df_test['Sex'] == 'female', 'Age'].median()"
   ]
  },
  {
   "cell_type": "code",
   "execution_count": 195,
   "id": "8d24fb46",
   "metadata": {},
   "outputs": [
    {
     "data": {
      "text/plain": [
       "<AxesSubplot:xlabel='Fare', ylabel='Count'>"
      ]
     },
     "execution_count": 195,
     "metadata": {},
     "output_type": "execute_result"
    },
    {
     "data": {
      "image/png": "[encoded data removed]",
      "text/plain": [
       "<Figure size 432x288 with 1 Axes>"
      ]
     },
     "metadata": {
      "needs_background": "light"
     },
     "output_type": "display_data"
    }
   ],
   "source": [
    "df_test['Fare'].fillna(df_test['Fare'].median(), inplace = True)\n",
    "sns.histplot(x = df.loc[df['Survived'] == 0, 'Fare'])\n",
    "sns.histplot(x = df.loc[df['Survived'] == 1, 'Fare'])"
   ]
  },
  {
   "cell_type": "code",
   "execution_count": 196,
   "id": "3129507a",
   "metadata": {},
   "outputs": [],
   "source": [
    "func = lambda x: x[0]\n",
    "for dataf in [df, df_test]:\n",
    "    minor = dataf['Age'] < 6\n",
    "    teen = dataf['Age'] >= 6\n",
    "    adult = dataf['Age'] >= 20\n",
    "    elder = dataf['Age'] >= 60\n",
    "    poor = dataf['Fare'] <= 20\n",
    "    middle = dataf['Fare'] <= 50\n",
    "    rich = dataf['Fare'] > 50\n",
    "    dataf.loc[minor, 'Age'] = 'minor'\n",
    "    dataf.loc[teen, 'Age'] = 'teen'\n",
    "    dataf.loc[adult, 'Age'] = 'adult'\n",
    "    dataf.loc[elder, 'Age'] = 'elder'\n",
    "    dataf.loc[rich, 'Fare'] = 'rich'\n",
    "    dataf.loc[middle, 'Fare'] = 'middle'\n",
    "    dataf.loc[poor, 'Fare'] = 'poor'\n",
    "#     dataf['Age'].fillna('missing', inplace=True)\n",
    "    dataf['relatives'] = dataf['SibSp'] + dataf['Parch']\n",
    "    alone = (dataf['relatives'] == 0)\n",
    "    survivor = (dataf['relatives'] > 0)\n",
    "    dead_man = (dataf['relatives'] > 4)\n",
    "    dataf.loc[alone, 'relatives'] = 'alone'\n",
    "    dataf.loc[survivor, 'relatives'] = 'survivor'\n",
    "    dataf.loc[dead_man, 'relatives'] = 'dead_man'\n",
    "    dataf[\"Embarked\"].fillna('S', inplace=True)\n",
    "    dataf['Cabin'] = dataf['Cabin'].apply(str).apply(func)\n",
    "#     dataf['Fare'] = dataf['Fare'].astype(int)"
   ]
  },
  {
   "cell_type": "code",
   "execution_count": 197,
   "id": "9d7a3894",
   "metadata": {},
   "outputs": [],
   "source": [
    "y = df.pop('Survived')"
   ]
  },
  {
   "cell_type": "code",
   "execution_count": 198,
   "id": "f6b9c65a",
   "metadata": {},
   "outputs": [],
   "source": [
    "# cat_features = ['Pclass', 'Sex', 'Embarked', \\\n",
    "#                 'Age', 'relatives', 'Cabin', 'title']\n",
    "# cat_features = ['Sex', 'Embarked', 'Age', 'relatives', 'Cabin', 'Fare', 'Pclass', 'title']\n",
    "cat_features = ['Sex', 'Embarked', 'Age', 'relatives', 'Fare', 'Pclass', 'title']\n",
    "features_to_drop = ['Ticket', 'Name', 'SibSp', 'Parch', 'PassengerId', 'Cabin']\n",
    "X = df.drop(features_to_drop, axis=1)\n",
    "X_test = df_test.drop(features_to_drop, axis=1)"
   ]
  },
  {
   "cell_type": "code",
   "execution_count": 199,
   "id": "d3ffb9ca",
   "metadata": {},
   "outputs": [
    {
     "ename": "KeyError",
     "evalue": "'Cabin'",
     "output_type": "error",
     "traceback": [
      "\u001b[0;31m---------------------------------------------------------------------------\u001b[0m",
      "\u001b[0;31mKeyError\u001b[0m                                  Traceback (most recent call last)",
      "File \u001b[0;32m~/.local/lib/python3.10/site-packages/pandas/core/indexes/base.py:3621\u001b[0m, in \u001b[0;36mIndex.get_loc\u001b[0;34m(self, key, method, tolerance)\u001b[0m\n\u001b[1;32m   3620\u001b[0m \u001b[38;5;28;01mtry\u001b[39;00m:\n\u001b[0;32m-> 3621\u001b[0m     \u001b[38;5;28;01mreturn\u001b[39;00m \u001b[38;5;28;43mself\u001b[39;49m\u001b[38;5;241;43m.\u001b[39;49m\u001b[43m_engine\u001b[49m\u001b[38;5;241;43m.\u001b[39;49m\u001b[43mget_loc\u001b[49m\u001b[43m(\u001b[49m\u001b[43mcasted_key\u001b[49m\u001b[43m)\u001b[49m\n\u001b[1;32m   3622\u001b[0m \u001b[38;5;28;01mexcept\u001b[39;00m \u001b[38;5;167;01mKeyError\u001b[39;00m \u001b[38;5;28;01mas\u001b[39;00m err:\n",
      "File \u001b[0;32m~/.local/lib/python3.10/site-packages/pandas/_libs/index.pyx:136\u001b[0m, in \u001b[0;36mpandas._libs.index.IndexEngine.get_loc\u001b[0;34m()\u001b[0m\n",
      "File \u001b[0;32m~/.local/lib/python3.10/site-packages/pandas/_libs/index.pyx:163\u001b[0m, in \u001b[0;36mpandas._libs.index.IndexEngine.get_loc\u001b[0;34m()\u001b[0m\n",
      "File \u001b[0;32mpandas/_libs/hashtable_class_helper.pxi:5198\u001b[0m, in \u001b[0;36mpandas._libs.hashtable.PyObjectHashTable.get_item\u001b[0;34m()\u001b[0m\n",
      "File \u001b[0;32mpandas/_libs/hashtable_class_helper.pxi:5206\u001b[0m, in \u001b[0;36mpandas._libs.hashtable.PyObjectHashTable.get_item\u001b[0;34m()\u001b[0m\n",
      "\u001b[0;31mKeyError\u001b[0m: 'Cabin'",
      "\nThe above exception was the direct cause of the following exception:\n",
      "\u001b[0;31mKeyError\u001b[0m                                  Traceback (most recent call last)",
      "Input \u001b[0;32mIn [199]\u001b[0m, in \u001b[0;36m<cell line: 1>\u001b[0;34m()\u001b[0m\n\u001b[0;32m----> 1\u001b[0m mask \u001b[38;5;241m=\u001b[39m [\u001b[38;5;28;01mTrue\u001b[39;00m \u001b[38;5;28;01mif\u001b[39;00m \u001b[38;5;124m'\u001b[39m\u001b[38;5;124mT\u001b[39m\u001b[38;5;124m'\u001b[39m \u001b[38;5;129;01min\u001b[39;00m item \u001b[38;5;28;01melse\u001b[39;00m \u001b[38;5;28;01mFalse\u001b[39;00m \u001b[38;5;28;01mfor\u001b[39;00m item \u001b[38;5;129;01min\u001b[39;00m \u001b[43mX\u001b[49m\u001b[43m[\u001b[49m\u001b[38;5;124;43m'\u001b[39;49m\u001b[38;5;124;43mCabin\u001b[39;49m\u001b[38;5;124;43m'\u001b[39;49m\u001b[43m]\u001b[49m\u001b[38;5;241m.\u001b[39mapply(\u001b[38;5;28mstr\u001b[39m)]\n\u001b[1;32m      2\u001b[0m X\u001b[38;5;241m.\u001b[39mloc[mask, \u001b[38;5;124m'\u001b[39m\u001b[38;5;124mCabin\u001b[39m\u001b[38;5;124m'\u001b[39m] \u001b[38;5;241m=\u001b[39m \u001b[38;5;124m'\u001b[39m\u001b[38;5;124mn\u001b[39m\u001b[38;5;124m'\u001b[39m\n",
      "File \u001b[0;32m~/.local/lib/python3.10/site-packages/pandas/core/frame.py:3505\u001b[0m, in \u001b[0;36mDataFrame.__getitem__\u001b[0;34m(self, key)\u001b[0m\n\u001b[1;32m   3503\u001b[0m \u001b[38;5;28;01mif\u001b[39;00m \u001b[38;5;28mself\u001b[39m\u001b[38;5;241m.\u001b[39mcolumns\u001b[38;5;241m.\u001b[39mnlevels \u001b[38;5;241m>\u001b[39m \u001b[38;5;241m1\u001b[39m:\n\u001b[1;32m   3504\u001b[0m     \u001b[38;5;28;01mreturn\u001b[39;00m \u001b[38;5;28mself\u001b[39m\u001b[38;5;241m.\u001b[39m_getitem_multilevel(key)\n\u001b[0;32m-> 3505\u001b[0m indexer \u001b[38;5;241m=\u001b[39m \u001b[38;5;28;43mself\u001b[39;49m\u001b[38;5;241;43m.\u001b[39;49m\u001b[43mcolumns\u001b[49m\u001b[38;5;241;43m.\u001b[39;49m\u001b[43mget_loc\u001b[49m\u001b[43m(\u001b[49m\u001b[43mkey\u001b[49m\u001b[43m)\u001b[49m\n\u001b[1;32m   3506\u001b[0m \u001b[38;5;28;01mif\u001b[39;00m is_integer(indexer):\n\u001b[1;32m   3507\u001b[0m     indexer \u001b[38;5;241m=\u001b[39m [indexer]\n",
      "File \u001b[0;32m~/.local/lib/python3.10/site-packages/pandas/core/indexes/base.py:3623\u001b[0m, in \u001b[0;36mIndex.get_loc\u001b[0;34m(self, key, method, tolerance)\u001b[0m\n\u001b[1;32m   3621\u001b[0m     \u001b[38;5;28;01mreturn\u001b[39;00m \u001b[38;5;28mself\u001b[39m\u001b[38;5;241m.\u001b[39m_engine\u001b[38;5;241m.\u001b[39mget_loc(casted_key)\n\u001b[1;32m   3622\u001b[0m \u001b[38;5;28;01mexcept\u001b[39;00m \u001b[38;5;167;01mKeyError\u001b[39;00m \u001b[38;5;28;01mas\u001b[39;00m err:\n\u001b[0;32m-> 3623\u001b[0m     \u001b[38;5;28;01mraise\u001b[39;00m \u001b[38;5;167;01mKeyError\u001b[39;00m(key) \u001b[38;5;28;01mfrom\u001b[39;00m \u001b[38;5;21;01merr\u001b[39;00m\n\u001b[1;32m   3624\u001b[0m \u001b[38;5;28;01mexcept\u001b[39;00m \u001b[38;5;167;01mTypeError\u001b[39;00m:\n\u001b[1;32m   3625\u001b[0m     \u001b[38;5;66;03m# If we have a listlike key, _check_indexing_error will raise\u001b[39;00m\n\u001b[1;32m   3626\u001b[0m     \u001b[38;5;66;03m#  InvalidIndexError. Otherwise we fall through and re-raise\u001b[39;00m\n\u001b[1;32m   3627\u001b[0m     \u001b[38;5;66;03m#  the TypeError.\u001b[39;00m\n\u001b[1;32m   3628\u001b[0m     \u001b[38;5;28mself\u001b[39m\u001b[38;5;241m.\u001b[39m_check_indexing_error(key)\n",
      "\u001b[0;31mKeyError\u001b[0m: 'Cabin'"
     ]
    }
   ],
   "source": [
    "mask = [True if 'T' in item else False for item in X['Cabin'].apply(str)]\n",
    "X.loc[mask, 'Cabin'] = 'n'"
   ]
  },
  {
   "cell_type": "code",
   "execution_count": 200,
   "id": "e593aaa0",
   "metadata": {},
   "outputs": [
    {
     "data": {
      "text/plain": [
       "(712, 23)"
      ]
     },
     "execution_count": 200,
     "metadata": {},
     "output_type": "execute_result"
    }
   ],
   "source": [
    "from sklearn.preprocessing import StandardScaler, OneHotEncoder\n",
    "from sklearn.model_selection import train_test_split\n",
    "from sklearn.compose import ColumnTransformer\n",
    "from sklearn.pipeline import Pipeline\n",
    "\n",
    "def keras_classifier_wrapper():\n",
    "    clf = keras.Sequential([\n",
    "        layers.BatchNormalization(),\n",
    "        layers.Dropout(0.3),\n",
    "        layers.Dense(256, input_shape=[23], activation='relu'),\n",
    "        layers.BatchNormalization(),\n",
    "        layers.Dropout(0.3),\n",
    "        layers.Dense(256, activation='relu'),\n",
    "        layers.BatchNormalization(),\n",
    "        layers.Dropout(0.3),\n",
    "        layers.Dense(256, activation='relu'),\n",
    "        layers.BatchNormalization(),\n",
    "        layers.Dropout(0.3),\n",
    "        layers.Dense(1, activation='sigmoid')\n",
    "    ])\n",
    "    clf.compile(loss='binary_crossentropy', optimizer='adam', metrics=['accuracy'])\n",
    "    return clf\n",
    "\n",
    "clf = keras_classifier_wrapper()\n",
    "\n",
    "X = pd.get_dummies(X, columns=cat_features)\n",
    "X_test = pd.get_dummies(X_test, columns=cat_features)\n",
    "\n",
    "train_X, test_X, train_y, test_y = train_test_split(X, y, test_size=0.2, stratify=y, random_state=11)\n",
    "train_X.shape"
   ]
  },
  {
   "cell_type": "code",
   "execution_count": 201,
   "id": "9799a2a1",
   "metadata": {},
   "outputs": [
    {
     "data": {
      "image/png": "[encoded data removed]",
      "text/plain": [
       "<Figure size 432x288 with 1 Axes>"
      ]
     },
     "metadata": {
      "needs_background": "light"
     },
     "output_type": "display_data"
    }
   ],
   "source": [
    "from keras.callbacks import EarlyStopping\n",
    "\n",
    "callbacks = EarlyStopping(monitor='val_loss', patience=20, mode='min', restore_best_weights=True)\n",
    "\n",
    "history = clf.fit(\n",
    "    train_X, train_y,\n",
    "    validation_data=(test_X, test_y),\n",
    "    batch_size=64,\n",
    "    epochs=200,\n",
    "    verbose=0,\n",
    "    callbacks=[callbacks],\n",
    "    shuffle=True)\n",
    "\n",
    "history_df = pd.DataFrame(history.history)\n",
    "history_df.loc[:, ['loss', 'val_loss']].plot();"
   ]
  },
  {
   "cell_type": "code",
   "execution_count": 202,
   "id": "93409276",
   "metadata": {},
   "outputs": [
    {
     "name": "stdout",
     "output_type": "stream",
     "text": [
      "14/14 [==============================] - 0s 2ms/step\n"
     ]
    }
   ],
   "source": [
    "predictions = clf.predict(X_test)"
   ]
  },
  {
   "cell_type": "code",
   "execution_count": 203,
   "id": "508b7cd9",
   "metadata": {},
   "outputs": [],
   "source": [
    "submission = pd.DataFrame()\n",
    "submission['PassengerId'] = df_test['PassengerId']\n",
    "submission['Survived'] = pd.DataFrame(predictions.round())\n",
    "submission['Survived'] = submission['Survived'].apply(int)\n",
    "submission.to_csv('nn_seven_try.csv', index=False)"
   ]
  },
  {
   "cell_type": "code",
   "execution_count": 204,
   "id": "3cf0fb5a",
   "metadata": {},
   "outputs": [
    {
     "data": {
      "text/plain": [
       "132"
      ]
     },
     "execution_count": 204,
     "metadata": {},
     "output_type": "execute_result"
    }
   ],
   "source": [
    "submission['Survived'].sum()"
   ]
  },
  {
   "cell_type": "code",
   "execution_count": 205,
   "id": "119f0f35",
   "metadata": {},
   "outputs": [],
   "source": [
    "from sklearn.ensemble import RandomForestClassifier\n",
    "from sklearn.metrics import classification_report\n",
    "from sklearn.model_selection import GridSearchCV\n",
    "\n",
    "rf_clf = RandomForestClassifier(random_state=11)\n",
    "grid = {'max_leaf_nodes': [110],\n",
    "       'n_estimators': [1900],\n",
    "       'max_features': [6],\n",
    "       'max_depth': [9]}\n",
    "model = GridSearchCV(rf_clf, grid, cv=10, scoring='accuracy', n_jobs=-1)"
   ]
  },
  {
   "cell_type": "code",
   "execution_count": 206,
   "id": "41356619",
   "metadata": {},
   "outputs": [],
   "source": [
    "model.fit(train_X, train_y)\n",
    "predictions = model.predict(test_X)"
   ]
  },
  {
   "cell_type": "code",
   "execution_count": 207,
   "id": "cebf7acb",
   "metadata": {},
   "outputs": [
    {
     "name": "stdout",
     "output_type": "stream",
     "text": [
      "gridsearch best_score = 0.791\n",
      "gridsearch best parameters = {'max_depth': 9, 'max_features': 6, 'max_leaf_nodes': 110, 'n_estimators': 1900}\n",
      "              precision    recall  f1-score   support\n",
      "\n",
      "           0       0.84      0.96      0.90       110\n",
      "           1       0.92      0.71      0.80        69\n",
      "\n",
      "    accuracy                           0.87       179\n",
      "   macro avg       0.88      0.84      0.85       179\n",
      "weighted avg       0.87      0.87      0.86       179\n",
      "\n"
     ]
    }
   ],
   "source": [
    "print(f\"gridsearch best_score = {model.best_score_:0.3f}\")\n",
    "print(f\"gridsearch best parameters = {model.best_params_}\")\n",
    "print(classification_report(test_y, predictions))"
   ]
  },
  {
   "cell_type": "code",
   "execution_count": 209,
   "id": "09430f74",
   "metadata": {},
   "outputs": [],
   "source": [
    "predictions = model.predict(X_test)"
   ]
  },
  {
   "cell_type": "code",
   "execution_count": 210,
   "id": "11c7c16d",
   "metadata": {},
   "outputs": [],
   "source": [
    "submission = pd.DataFrame()\n",
    "submission['PassengerId'] = df_test['PassengerId']\n",
    "submission['Survived'] = predictions\n",
    "submission.to_csv(\"rf_model.csv\", index=False)"
   ]
  },
  {
   "cell_type": "code",
   "execution_count": null,
   "id": "83eb0563",
   "metadata": {},
   "outputs": [],
   "source": []
  }
 ],
 "metadata": {
  "kernelspec": {
   "display_name": "Python 3 (ipykernel)",
   "language": "python",
   "name": "python3"
  },
  "language_info": {
   "codemirror_mode": {
    "name": "ipython",
    "version": 3
   },
   "file_extension": ".py",
   "mimetype": "text/x-python",
   "name": "python",
   "nbconvert_exporter": "python",
   "pygments_lexer": "ipython3",
   "version": "3.10.4"
  }
 },
 "nbformat": 4,
 "nbformat_minor": 5
}
