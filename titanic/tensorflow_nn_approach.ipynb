{
 "cells": [
  {
   "cell_type": "code",
   "execution_count": 188,
   "id": "22084dcf",
   "metadata": {},
   "outputs": [],
   "source": [
    "import pandas as pd\n",
    "\n",
    "from tensorflow import keras\n",
    "from keras import layers\n",
    "\n",
    "df = pd.read_csv('train.csv')\n",
    "df_test = pd.read_csv('test.csv')\n"
   ]
  },
  {
   "cell_type": "code",
   "execution_count": 189,
   "id": "fe82141a",
   "metadata": {},
   "outputs": [
    {
     "data": {
      "text/plain": [
       "array(['n', 'C', 'E', 'G', 'D', 'A', 'B', 'F', 'T'], dtype=object)"
      ]
     },
     "execution_count": 189,
     "metadata": {},
     "output_type": "execute_result"
    }
   ],
   "source": [
    "df['Cabin'].dropna().head()\n",
    "func = lambda x: x[0]\n",
    "puk = df['Cabin'].apply(str).apply(func)\n",
    "puk.unique()"
   ]
  },
  {
   "cell_type": "code",
   "execution_count": 190,
   "id": "3129507a",
   "metadata": {},
   "outputs": [],
   "source": [
    "func = lambda x: x[0]\n",
    "for dataf in [df, df_test]:\n",
    "    minor = dataf['Age'] < 11\n",
    "    adult = dataf['Age'] >= 11\n",
    "    dataf.loc[minor, 'Age'] = 'minor'\n",
    "    dataf.loc[adult, 'Age'] = 'adult'\n",
    "    dataf['Age'].fillna('missing', inplace=True)\n",
    "    dataf['relatives'] = dataf['SibSp'] + dataf['Parch']\n",
    "    alone = dataf['relatives'] == 0\n",
    "    survivor = (dataf['relatives'] > 0)\n",
    "    dataf.loc[alone, 'relatives'] = 'alone'\n",
    "    dataf.loc[survivor, 'relatives'] = 'survivor'\n",
    "    dataf[\"Embarked\"].fillna('S', inplace=True)\n",
    "    dataf['Cabin'] = dataf['Cabin'].apply(str).apply(func)"
   ]
  },
  {
   "cell_type": "code",
   "execution_count": 191,
   "id": "9d7a3894",
   "metadata": {},
   "outputs": [],
   "source": [
    "y = df.pop('Survived')"
   ]
  },
  {
   "cell_type": "code",
   "execution_count": 202,
   "id": "16747582",
   "metadata": {},
   "outputs": [],
   "source": [
    "X = df.drop(['Ticket', 'Name', 'SibSp', 'Parch', 'PassengerId'], axis=1)\n",
    "X_test = df_test.drop(['Ticket', 'Name', 'SibSp', 'Parch', 'PassengerId'], axis=1)"
   ]
  },
  {
   "cell_type": "code",
   "execution_count": 203,
   "id": "75000de7",
   "metadata": {},
   "outputs": [
    {
     "data": {
      "text/plain": [
       "array(['n', 'C', 'E', 'G', 'D', 'A', 'B', 'F', 'T'], dtype=object)"
      ]
     },
     "execution_count": 203,
     "metadata": {},
     "output_type": "execute_result"
    }
   ],
   "source": [
    "X['Cabin'].unique()"
   ]
  },
  {
   "cell_type": "code",
   "execution_count": 204,
   "id": "f6b9c65a",
   "metadata": {},
   "outputs": [],
   "source": [
    "cat_features = ['Pclass', 'Sex', 'Embarked', \\\n",
    "                'Age', 'relatives', 'Cabin']\n",
    "num_features = ['Fare']"
   ]
  },
  {
   "cell_type": "code",
   "execution_count": 205,
   "id": "cf841880",
   "metadata": {},
   "outputs": [],
   "source": [
    "X_test['Fare'].fillna(X_test['Fare'].median(), inplace=True)"
   ]
  },
  {
   "cell_type": "code",
   "execution_count": 206,
   "id": "db7ce82f",
   "metadata": {},
   "outputs": [],
   "source": [
    "mask = [True if 'T' in item else False for item in X['Cabin'].apply(str)]\n",
    "X.loc[mask, 'Cabin'] = 'n'"
   ]
  },
  {
   "cell_type": "code",
   "execution_count": 207,
   "id": "e593aaa0",
   "metadata": {},
   "outputs": [
    {
     "data": {
      "text/plain": [
       "(223, 22)"
      ]
     },
     "execution_count": 207,
     "metadata": {},
     "output_type": "execute_result"
    }
   ],
   "source": [
    "from sklearn.preprocessing import StandardScaler, OneHotEncoder\n",
    "from sklearn.model_selection import train_test_split\n",
    "from sklearn.compose import ColumnTransformer\n",
    "from sklearn.pipeline import Pipeline\n",
    "\n",
    "def keras_classifier_wrapper():\n",
    "    clf = keras.Sequential([\n",
    "        layers.BatchNormalization(),\n",
    "        layers.Dropout(0.3),\n",
    "        layers.Dense(128, input_shape=[22], activation='relu'),\n",
    "        layers.BatchNormalization(),\n",
    "        layers.Dropout(0.3),\n",
    "        layers.Dense(128, activation='relu'),\n",
    "        layers.BatchNormalization(),\n",
    "        layers.Dropout(0.3),\n",
    "        layers.Dense(128, activation='relu'),\n",
    "        layers.BatchNormalization(),\n",
    "        layers.Dropout(0.3),\n",
    "        layers.Dense(1, activation='sigmoid')\n",
    "    ])\n",
    "    clf.compile(loss='binary_crossentropy', optimizer='adam', metrics=['accuracy'])\n",
    "    return clf\n",
    "\n",
    "train_X, test_X, train_y, test_y = train_test_split(X, y, stratify=y, random_state=11)\n",
    "\n",
    "scaler = StandardScaler()\n",
    "encoder = OneHotEncoder()\n",
    "\n",
    "clf = keras_classifier_wrapper()\n",
    "\n",
    "preprocessor = ColumnTransformer(transformers=[\n",
    "    ('num', scaler, num_features),\n",
    "    ('cat', encoder, cat_features)\n",
    "])\n",
    "\n",
    "train_X = pd.DataFrame(preprocessor.fit_transform(train_X))\n",
    "train_X.columns = preprocessor.get_feature_names_out()\n",
    "test_X = pd.DataFrame(preprocessor.transform(test_X))\n",
    "test_X.columns = preprocessor.get_feature_names_out()\n",
    "X_test = pd.DataFrame(preprocessor.transform(X_test))\n",
    "X_test.columns = preprocessor.get_feature_names_out()\n",
    "test_X.shape"
   ]
  },
  {
   "cell_type": "code",
   "execution_count": 208,
   "id": "65d911f1",
   "metadata": {},
   "outputs": [
    {
     "data": {
      "image/png": "[encoded data removed]",
      "text/plain": [
       "<Figure size 432x288 with 1 Axes>"
      ]
     },
     "metadata": {
      "needs_background": "light"
     },
     "output_type": "display_data"
    }
   ],
   "source": [
    "history = clf.fit(\n",
    "    train_X, train_y,\n",
    "    validation_data=(test_X, test_y),\n",
    "    batch_size=128,\n",
    "    epochs=300,\n",
    "    verbose=0,\n",
    ")\n",
    "\n",
    "history_df = pd.DataFrame(history.history)\n",
    "history_df.loc[:, ['loss', 'val_loss']].plot();"
   ]
  },
  {
   "cell_type": "code",
   "execution_count": 199,
   "id": "09161468",
   "metadata": {},
   "outputs": [
    {
     "name": "stdout",
     "output_type": "stream",
     "text": [
      "14/14 [==============================] - 0s 2ms/step\n"
     ]
    }
   ],
   "source": [
    "predictions = clf.predict(X_test)"
   ]
  },
  {
   "cell_type": "code",
   "execution_count": 200,
   "id": "d0c9b2f2",
   "metadata": {},
   "outputs": [],
   "source": [
    "submission = pd.DataFrame()\n",
    "submission['PassengerId'] = df_test['PassengerId']\n",
    "submission['Survived'] = pd.DataFrame(predictions.round())\n",
    "submission['Survived'] = submission['Survived'].apply(int)\n",
    "submission.to_csv('nn_third_try.csv', index=False)"
   ]
  },
  {
   "cell_type": "code",
   "execution_count": 201,
   "id": "4b7404d3",
   "metadata": {},
   "outputs": [
    {
     "data": {
      "text/plain": [
       "120"
      ]
     },
     "execution_count": 201,
     "metadata": {},
     "output_type": "execute_result"
    }
   ],
   "source": [
    "submission['Survived'].sum()"
   ]
  },
  {
   "cell_type": "code",
   "execution_count": null,
   "id": "53b886d4",
   "metadata": {},
   "outputs": [],
   "source": []
  }
 ],
 "metadata": {
  "kernelspec": {
   "display_name": "Python 3 (ipykernel)",
   "language": "python",
   "name": "python3"
  },
  "language_info": {
   "codemirror_mode": {
    "name": "ipython",
    "version": 3
   },
   "file_extension": ".py",
   "mimetype": "text/x-python",
   "name": "python",
   "nbconvert_exporter": "python",
   "pygments_lexer": "ipython3",
   "version": "3.10.4"
  }
 },
 "nbformat": 4,
 "nbformat_minor": 5
}
